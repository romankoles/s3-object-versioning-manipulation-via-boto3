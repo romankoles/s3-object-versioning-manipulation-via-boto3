{
 "cells": [
  {
   "cell_type": "markdown",
   "metadata": {},
   "source": [
    "# S3 Object versioning manipulation - boto3 library"
   ]
  },
  {
   "cell_type": "markdown",
   "metadata": {},
   "source": [
    "## Sample with 2 buckets"
   ]
  },
  {
   "cell_type": "markdown",
   "metadata": {},
   "source": [
    "Step 1: Choose previous variant and copy the oblect to another bucket"
   ]
  },
  {
   "cell_type": "code",
   "execution_count": 1,
   "metadata": {},
   "outputs": [
    {
     "name": "stdout",
     "output_type": "stream",
     "text": [
      "{'Bucket': 'your-test-bucket', 'Key': 'test-s3-2020-11-14.txt', 'VersionId': '.R0KDsY7rs1dd3TzptQWCq7fEV3UJV2F'}\n"
     ]
    }
   ],
   "source": [
    "import boto3\n",
    "\n",
    "client = boto3.client('s3')\n",
    "\n",
    "copy_source = {\n",
    "    'Bucket': 'your-test-bucket',\n",
    "    'Key': 'test-s3-2020-11-14.txt',\n",
    "     'VersionId': '.R0KDsY7rs1dd3TzptQWCq7fEV3UJV2F'\n",
    "}\n",
    "\n",
    "print(copy_source)   # version-to-copy-back details \n",
    "\n",
    "copy_response = client.copy_object(\n",
    "    Bucket = 'your-test-bucket-copy',\n",
    "    Key = 'test-s3-2020-11-14.txt',\n",
    "    CopySource= {'Bucket': 'your-test-bucket', 'Key': 'test-s3-2020-11-14.txt', 'VersionId': '.R0KDsY7rs1dd3TzptQWCq7fEV3UJV2F'}    \n",
    ")"
   ]
  },
  {
   "cell_type": "markdown",
   "metadata": {},
   "source": [
    "Step 2: Update the code below with new VersionId of the new object from '-copy' bucket and copy the object back to the original bucket"
   ]
  },
  {
   "cell_type": "code",
   "execution_count": 2,
   "metadata": {},
   "outputs": [
    {
     "name": "stdout",
     "output_type": "stream",
     "text": [
      "{'Bucket': 'your-test-bucket-copy', 'Key': 'test-s3-2020-11-14.txt', 'VersionId': 'HWpZMgigswFOhX3thXhY5vr4T3vRqlgk'}\n"
     ]
    }
   ],
   "source": [
    "client = boto3.client('s3')\n",
    "\n",
    "copy_source = {\n",
    "    'Bucket': 'your-test-bucket-copy',\n",
    "    'Key': 'test-s3-2020-11-14.txt',\n",
    "     'VersionId': 'HWpZMgigswFOhX3thXhY5vr4T3vRqlgk'\n",
    "}\n",
    "\n",
    "print(copy_source)   # version-to-copy-back details \n",
    "\n",
    "copy_response = client.copy_object(\n",
    "    Bucket = 'your-test-bucket',\n",
    "    Key = 'test-s3-2020-11-14.txt',\n",
    "    CopySource= {'Bucket': 'your-test-bucket-copy', 'Key': 'test-s3-2020-11-14.txt', 'VersionId': 'HWpZMgigswFOhX3thXhY5vr4T3vRqlgk'}    \n",
    ")"
   ]
  },
  {
   "cell_type": "markdown",
   "metadata": {},
   "source": [
    "## Sample with 1 bucket - 2 folders"
   ]
  },
  {
   "cell_type": "markdown",
   "metadata": {},
   "source": [
    "Step 1: Choose previous variant and copy the oblect to another folder"
   ]
  },
  {
   "cell_type": "code",
   "execution_count": 10,
   "metadata": {},
   "outputs": [
    {
     "name": "stdout",
     "output_type": "stream",
     "text": [
      "{'Bucket': 'your-test-bucket', 'Key': 's3-data-work/test-s3-2020-11-14.txt', 'VersionId': 'W2PdLcrP5NlhGIDEwvBFa5OlKuMH48qn'}\n"
     ]
    }
   ],
   "source": [
    "import boto3\n",
    "\n",
    "client = boto3.client('s3')\n",
    "\n",
    "copy_source = {\n",
    "    'Bucket': 'your-test-bucket',\n",
    "    'Key': 's3-data-work/test-s3-2020-11-14.txt',\n",
    "     'VersionId': 'W2PdLcrP5NlhGIDEwvBFa5OlKuMH48qn'\n",
    "}\n",
    "\n",
    "print(copy_source)   # version-to-copy-back details \n",
    "\n",
    "copy_response = client.copy_object(\n",
    "    Bucket = 'your-test-bucket',\n",
    "    Key = 's3-data-temp/test-s3-2020-11-14.txt',\n",
    "    CopySource= {'Bucket': 'megalava-test', \n",
    "                 'Key': 's3-data-work/test-s3-2020-11-14.txt', \n",
    "                 'VersionId': 'W2PdLcrP5NlhGIDEwvBFa5OlKuMH48qn'\n",
    "                }    \n",
    ")"
   ]
  },
  {
   "cell_type": "markdown",
   "metadata": {},
   "source": [
    "Step 2: Update the code below with new VersionId of the new object from '-temp' folder and copy the object back to the original folder"
   ]
  },
  {
   "cell_type": "code",
   "execution_count": 11,
   "metadata": {},
   "outputs": [
    {
     "name": "stdout",
     "output_type": "stream",
     "text": [
      "{'Bucket': 'your-test-bucket', 'Key': 's3-data-temp/test-s3-2020-11-14.txt', 'VersionId': '9nj2Mlv3hY3jkCYVXLx2VAogUaCRLZ7F'}\n"
     ]
    }
   ],
   "source": [
    "client = boto3.client('s3')\n",
    "\n",
    "copy_source = {\n",
    "    'Bucket': 'your-test-bucket',\n",
    "    'Key': 's3-data-temp/test-s3-2020-11-14.txt',\n",
    "     'VersionId': '9nj2Mlv3hY3jkCYVXLx2VAogUaCRLZ7F'\n",
    "}\n",
    "\n",
    "print(copy_source)   # version-to-copy-back details \n",
    "\n",
    "copy_response = client.copy_object(\n",
    "    Bucket = 'megalava-test',\n",
    "    Key = 's3-data-work/test-s3-2020-11-14.txt',\n",
    "    CopySource= {'Bucket': 'megalava-test', \n",
    "                 'Key': 's3-data-temp/test-s3-2020-11-14.txt', \n",
    "                 'VersionId': '9nj2Mlv3hY3jkCYVXLx2VAogUaCRLZ7F'\n",
    "                }    \n",
    ")"
   ]
  },
  {
   "cell_type": "code",
   "execution_count": null,
   "metadata": {},
   "outputs": [],
   "source": []
  }
 ],
 "metadata": {
  "kernelspec": {
   "display_name": "conda_python3",
   "language": "python",
   "name": "conda_python3"
  },
  "language_info": {
   "codemirror_mode": {
    "name": "ipython",
    "version": 3
   },
   "file_extension": ".py",
   "mimetype": "text/x-python",
   "name": "python",
   "nbconvert_exporter": "python",
   "pygments_lexer": "ipython3",
   "version": "3.6.10"
  }
 },
 "nbformat": 4,
 "nbformat_minor": 4
}
